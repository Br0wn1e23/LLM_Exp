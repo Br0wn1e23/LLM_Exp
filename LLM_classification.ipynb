{
 "cells": [
  {
   "cell_type": "code",
   "execution_count": 12,
   "metadata": {},
   "outputs": [],
   "source": [
    "from openai import OpenAI\n",
    "from tensorflow.keras.datasets import imdb\n",
    "import numpy as np\n",
    "from sklearn.metrics import accuracy_score\n",
    "\n",
    "\n",
    "# IMDB dataset preparation\n",
    "word_index = imdb.get_word_index()\n",
    "reverse_word_index = {value: key for (key, value) in word_index.items()}\n",
    "\n",
    "\n",
    "def decode_review(sequence):\n",
    "    return \" \".join([reverse_word_index.get(i - 3, \"?\") for i in sequence[1:]])\n",
    "\n",
    "\n",
    "(train_x, train_y), (test_x, test_y) = imdb.load_data(num_words=100000)\n",
    "\n",
    "\n",
    "# Reverse the word index to create a mapping from integer indices to words\n",
    "reverse_word_index = {value: key for (key, value) in word_index.items()}\n",
    "# Point to the local server\n",
    "client = OpenAI(base_url=\"http://127.0.0.1:1234/v1\", api_key=\"lm-studio\")\n",
    "\n",
    "\n",
    "# API access to the model\n",
    "def prompt_model(prompt):\n",
    "    completion = client.chat.completions.create(\n",
    "        model=\"llama-3-8b-lexi-uncensored\",\n",
    "        messages=[\n",
    "            {\n",
    "                \"role\": \"system\",\n",
    "                \"content\": \"Decide whether the entire prompt you receive is either a positive or a negative movie review. Only answer with a single digit, use '1' for positive or with '0' for negativ. Do not answer with anything else than '1' or '0'.\",\n",
    "            },\n",
    "            {\"role\": \"user\", \"content\": prompt},\n",
    "        ],\n",
    "        temperature=0,\n",
    "    )\n",
    "    return completion.choices[0].message.content\n",
    "\n",
    "\n",
    "# Helper funtion to handle weird outputs\n",
    "def convert_outputs(strings):\n",
    "    result = []\n",
    "    weird = 0\n",
    "    skipped = 0\n",
    "    skipped_indices = []\n",
    "\n",
    "    for i, s in enumerate(strings):\n",
    "        if s != \"1\" and s != \"0\":\n",
    "            print(f\"Weird format detected'{s}'.\")\n",
    "            weird += 1\n",
    "        # Filter out any characters that are not '1' or '0'\n",
    "        cleaned = \"\".join([char for char in s if char in \"10\"])\n",
    "\n",
    "        # Convert to integer if the cleaned string is exactly \"1\" or \"0\"\n",
    "        if cleaned == \"1\":\n",
    "            result.append(1)\n",
    "        elif cleaned == \"0\":\n",
    "            result.append(0)\n",
    "        else:\n",
    "            # Handle unexpected cases if needed; here we skip them\n",
    "            print(f\"Warning: Unrecognized format '{s}', skipping.\")\n",
    "            skipped += 1\n",
    "            skipped_indices.append(i)\n",
    "    if skipped > 0:\n",
    "        print(f\"Skipped {skipped} outputs.\")\n",
    "    return result, skipped_indices"
   ]
  },
  {
   "cell_type": "code",
   "execution_count": null,
   "metadata": {},
   "outputs": [
    {
     "name": "stdout",
     "output_type": "stream",
     "text": [
      "[1, 0, 0, 1, 0, 1, 1, 0, 1, 0, 1, 0, 0, 0, 0, 0, 1, 1, 0, 1, 0, 0, 0, 0, 1, 0, 0, 0, 1, 0, 0, 0, 1, 1, 0, 0, 0, 0, 0, 0, 1, 0, 0, 0, 1, 0, 1, 0, 1, 0]\n"
     ]
    }
   ],
   "source": [
    "x = [decode_review(x) for x in test_x[:50]]\n",
    "cats, ids = convert_outputs([prompt_model(i) for i in x])\n",
    "print(f\"Accuracy: {accuracy_score(train_y[:50], cats)}\")"
   ]
  },
  {
   "cell_type": "code",
   "execution_count": 40,
   "metadata": {},
   "outputs": [
    {
     "data": {
      "text/plain": [
       "array([1, 0, 0, ..., 0, 1, 0], dtype=int64)"
      ]
     },
     "execution_count": 40,
     "metadata": {},
     "output_type": "execute_result"
    }
   ],
   "source": [
    "train_y"
   ]
  },
  {
   "cell_type": "code",
   "execution_count": 24,
   "metadata": {},
   "outputs": [
    {
     "name": "stdout",
     "output_type": "stream",
     "text": [
      "1.\n",
      "\n",
      "\n",
      "0\n",
      "\n",
      "\n",
      "0\n",
      "\n",
      "\n",
      "I'll decide whether each sentence in the given text is a positive or negative movie review, and answer with '1' for positive or with '0' for negative. Here's the analysis:\n",
      "\n",
      "1. \"the scots excel at storytelling\" - Positive (1)\n",
      "2. \"traditional sort many years after the event i can still see in my mind' eye an elderly lady\" - Neutral\n",
      "3. \"my friend's mother retelling the battle of culloden she makes the characters come alive her passion is that of an eyewitness one to the events on the sodden heath a mile or so from where she lives\" - Positive (1)\n",
      "4. \"of course it happened many years before she was born but you wouldn't guess from the way she tells it\" - Positive (1)\n",
      "5. \"the same story is told in bars the length and breadth of scotland as i discussed it with a friend one night in mallaig\" - Neutral\n",
      "6. \"a local cut in to give his version the discussion continued to closing time\" - Positive (1)\n",
      "7. \"stories passed down like this become part of our being who doesn't remember the stories our parents told us when we were children they become our invisible world\" - Positive (1)\n",
      "8. \"and as we grow older they maybe still serve as inspiration or as an emotional reservoir fact and fiction blend with aspiration role models warning stories archetypes magic and mystery\" - Positive (1)\n",
      "9. \"my name is aonghas like my grandfather and his grandfather before him our protagonist introduces himself to us and also introduces the story that stretches back through generations\" - Neutral\n",
      "10. \"it produces stories within stories stories that evoke the impenetrable wonder of scotland its rugged mountains shrouded in mists the stuff of legend yet seach'd is rooted in reality\" - Positive (1)\n",
      "11. \"this is what gives it its special charm it has a rough beauty and authenticity tempered with some of the finest gaelic singing you will ever hear\" - Positive (1)\n",
      "12. \"aonghas angus visits his grandfather in hospital shortly before his death he burns with frustration part of him yearns to be in the twenty first century to hang out in glasgow but he is raised on the western shores among a gaelic speaking community\" - Neutral\n",
      "13. \"yet there is a deeper conflict within him he yearns to know the truth the truth behind his grandfather's ancient stories where does fiction end and he wants to know the truth behind the death of his parents\" - Positive (1)\n",
      "14. \"he is pulled to make a last fateful journey to the summit of one of scotland's most inaccessible mountains can the truth be told or is it all in stories\" - Positive (1)\n",
      "15. \"in this story about stories we revisit bloody battles poisoned lovers the folklore of old and the sometimes more treacherous folklore of accepted truth\" - Positive (1)\n",
      "16. \"in doing so we each connect with angus as he lives the story of his own life\" - Positive (1)\n",
      "17. \"seachd the inaccessible pinnacle is probably the most honest unpretentious and genuinely beautiful film of scotland ever made like angus i got slightly annoyed with the pretext of hanging stories on more stories but also like angus i forgave this once i saw the 'bigger picture' forget the box office pastiche of braveheart\" - Positive (1)\n",
      "18. \"and its like you might even forego the justly famous dramatisation of the wicker man to see a film that is true to scotland this one is probably unique if you maybe meditate on it deeply enough you might even re evaluate the power of storytelling and the age old question of whether there are some truths that cannot be told but only experienced\" - Positive (1)\n",
      "\n",
      "\n",
      "0\n",
      "\n",
      "\n"
     ]
    }
   ],
   "source": [
    "for i in cats:\n",
    "    print(i)\n",
    "    print(\"\\n\")"
   ]
  },
  {
   "cell_type": "code",
   "execution_count": 15,
   "metadata": {},
   "outputs": [
    {
     "data": {
      "text/plain": [
       "1"
      ]
     },
     "execution_count": 15,
     "metadata": {},
     "output_type": "execute_result"
    }
   ],
   "source": [
    "train_y[0]"
   ]
  },
  {
   "cell_type": "code",
   "execution_count": null,
   "metadata": {},
   "outputs": [],
   "source": [
    "\n",
    "print(completion.choices[0].message.content)\n"
   ]
  }
 ],
 "metadata": {
  "kernelspec": {
   "display_name": "Python 3",
   "language": "python",
   "name": "python3"
  },
  "language_info": {
   "codemirror_mode": {
    "name": "ipython",
    "version": 3
   },
   "file_extension": ".py",
   "mimetype": "text/x-python",
   "name": "python",
   "nbconvert_exporter": "python",
   "pygments_lexer": "ipython3",
   "version": "3.10.11"
  }
 },
 "nbformat": 4,
 "nbformat_minor": 2
}
